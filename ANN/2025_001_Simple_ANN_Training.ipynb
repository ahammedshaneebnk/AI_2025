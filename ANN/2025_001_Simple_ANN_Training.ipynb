{
  "nbformat": 4,
  "nbformat_minor": 0,
  "metadata": {
    "colab": {
      "provenance": [],
      "authorship_tag": "ABX9TyOHFtfbcUr9EM2e3sJp3O4w",
      "include_colab_link": true
    },
    "kernelspec": {
      "name": "python3",
      "display_name": "Python 3"
    },
    "language_info": {
      "name": "python"
    }
  },
  "cells": [
    {
      "cell_type": "markdown",
      "metadata": {
        "id": "view-in-github",
        "colab_type": "text"
      },
      "source": [
        "<a href=\"https://colab.research.google.com/github/ahammedshaneebnk/AI_2025/blob/main/ANN/2025_001_Simple_ANN_Training.ipynb\" target=\"_parent\"><img src=\"https://colab.research.google.com/assets/colab-badge.svg\" alt=\"Open In Colab\"/></a>"
      ]
    },
    {
      "cell_type": "markdown",
      "source": [
        "# Import Libraries"
      ],
      "metadata": {
        "id": "ltfWEM2pjAk7"
      }
    },
    {
      "cell_type": "code",
      "execution_count": 35,
      "metadata": {
        "id": "3NMJiaI9i5Yu"
      },
      "outputs": [],
      "source": [
        "import numpy as np\n",
        "\n",
        "from copy       import deepcopy\n",
        "from matplotlib import pyplot as plt"
      ]
    },
    {
      "cell_type": "markdown",
      "source": [
        "# Data"
      ],
      "metadata": {
        "id": "eYrKtpAnkczs"
      }
    },
    {
      "cell_type": "code",
      "source": [
        "x = np.array([[1,1]])\n",
        "y = np.array([[0]])"
      ],
      "metadata": {
        "id": "AKAMY6kgker3"
      },
      "execution_count": 36,
      "outputs": []
    },
    {
      "cell_type": "code",
      "source": [
        "x.shape"
      ],
      "metadata": {
        "colab": {
          "base_uri": "https://localhost:8080/"
        },
        "id": "PFvLz1wXkm3b",
        "outputId": "dd9f255b-0c45-422f-88cb-4f94e88c9366"
      },
      "execution_count": 37,
      "outputs": [
        {
          "output_type": "execute_result",
          "data": {
            "text/plain": [
              "(1, 2)"
            ]
          },
          "metadata": {},
          "execution_count": 37
        }
      ]
    },
    {
      "cell_type": "code",
      "source": [
        "y.shape"
      ],
      "metadata": {
        "colab": {
          "base_uri": "https://localhost:8080/"
        },
        "id": "uMv22K7bkoKv",
        "outputId": "66638afa-beb9-4faa-dc4e-cde64e98ba1a"
      },
      "execution_count": 38,
      "outputs": [
        {
          "output_type": "execute_result",
          "data": {
            "text/plain": [
              "(1, 1)"
            ]
          },
          "metadata": {},
          "execution_count": 38
        }
      ]
    },
    {
      "cell_type": "markdown",
      "source": [
        "# Initial Weights"
      ],
      "metadata": {
        "id": "b_EyKrzknb8m"
      }
    },
    {
      "cell_type": "code",
      "source": [
        "W = [\n",
        "    np.array([[-0.0053, 0.3793],\n",
        "              [-0.5820, -0.5204],\n",
        "              [-0.2723, 0.1896]], dtype=np.float32).T,\n",
        "    np.array([-0.0140, 0.5607, -0.0628], dtype=np.float32),\n",
        "    np.array([[ 0.1528, -0.1745, -0.1135]], dtype=np.float32).T,\n",
        "    np.array([-0.5516], dtype=np.float32)\n",
        "]"
      ],
      "metadata": {
        "id": "d2lYicvoneTl"
      },
      "execution_count": 39,
      "outputs": []
    },
    {
      "cell_type": "code",
      "source": [
        "for w in W:\n",
        "    print(w.shape)"
      ],
      "metadata": {
        "colab": {
          "base_uri": "https://localhost:8080/"
        },
        "id": "NlXEYrbpnodw",
        "outputId": "47d8a520-27e9-4b0b-9b43-39c4c2d9947c"
      },
      "execution_count": 40,
      "outputs": [
        {
          "output_type": "stream",
          "name": "stdout",
          "text": [
            "(2, 3)\n",
            "(3,)\n",
            "(3, 1)\n",
            "(1,)\n"
          ]
        }
      ]
    },
    {
      "cell_type": "markdown",
      "source": [
        "# Sigmoid Activation Function"
      ],
      "metadata": {
        "id": "YHQ7kdkdlsSX"
      }
    },
    {
      "cell_type": "code",
      "source": [
        "def sigmoid(x):\n",
        "    return 1/(1+np.exp(-x))"
      ],
      "metadata": {
        "id": "uAnQvFc0lxB9"
      },
      "execution_count": 41,
      "outputs": []
    },
    {
      "cell_type": "markdown",
      "source": [
        "# MSE Loss Function"
      ],
      "metadata": {
        "id": "AjsbRlbvmmgF"
      }
    },
    {
      "cell_type": "code",
      "source": [
        "def mse(y, y_):\n",
        "    return np.mean(np.square(y - y_))"
      ],
      "metadata": {
        "id": "Ib3yUetQmp8v"
      },
      "execution_count": 42,
      "outputs": []
    },
    {
      "cell_type": "markdown",
      "source": [
        "# Feed Forward"
      ],
      "metadata": {
        "id": "mHEIzcgGjYA3"
      }
    },
    {
      "cell_type": "code",
      "source": [
        "def feed_forward(inputs, outputs, weights):\n",
        "    pre_hidden  = np.dot(inputs, weights[0]) + weights[1]\n",
        "    hidden      = sigmoid(pre_hidden)\n",
        "    out         = np.dot(hidden, weights[2]) + weights[3]\n",
        "    return mse(out, outputs)"
      ],
      "metadata": {
        "id": "MhihBje6jUhG"
      },
      "execution_count": 43,
      "outputs": []
    },
    {
      "cell_type": "markdown",
      "source": [
        "# Update Weights"
      ],
      "metadata": {
        "id": "gOIGitOCnzLM"
      }
    },
    {
      "cell_type": "code",
      "source": [
        "def update_weights(inputs, outputs, weights, lr):\n",
        "    original_weights = deepcopy(weights)\n",
        "    temp_weights     = deepcopy(weights)\n",
        "    updated_weights  = deepcopy(weights)\n",
        "    original_loss    = feed_forward(inputs, outputs, original_weights)\n",
        "    for i, layer in enumerate(original_weights):\n",
        "        for index, weight in np.ndenumerate(layer):\n",
        "            temp_weights               = deepcopy(weights)\n",
        "            temp_weights[i][index]    += 0.0001\n",
        "            _loss_plus                 = feed_forward(inputs, outputs, temp_weights)\n",
        "            grad                       = (_loss_plus - original_loss)/(0.0001)\n",
        "            updated_weights[i][index] -= grad*lr\n",
        "    return updated_weights, original_loss"
      ],
      "metadata": {
        "id": "HSgYZtzgnRfA"
      },
      "execution_count": 44,
      "outputs": []
    },
    {
      "cell_type": "markdown",
      "source": [
        "# Train"
      ],
      "metadata": {
        "id": "fX9x1nhMoNCx"
      }
    },
    {
      "cell_type": "code",
      "source": [
        "losses = []\n",
        "for epoch in range(100):\n",
        "    W, loss = update_weights(x, y, W, 0.01)\n",
        "    losses.append(loss)"
      ],
      "metadata": {
        "id": "I2U5O4qRoMdt"
      },
      "execution_count": 45,
      "outputs": []
    },
    {
      "cell_type": "code",
      "source": [
        "plt.plot(losses)\n",
        "plt.title('Loss vs Epochs')"
      ],
      "metadata": {
        "colab": {
          "base_uri": "https://localhost:8080/",
          "height": 469
        },
        "id": "_iQ3NzkIoJEp",
        "outputId": "cca2cfa6-eb30-4bdd-9b3d-52e16412eab4"
      },
      "execution_count": 46,
      "outputs": [
        {
          "output_type": "execute_result",
          "data": {
            "text/plain": [
              "Text(0.5, 1.0, 'Loss vs Epochs')"
            ]
          },
          "metadata": {},
          "execution_count": 46
        },
        {
          "output_type": "display_data",
          "data": {
            "text/plain": [
              "<Figure size 640x480 with 1 Axes>"
            ],
            "image/png": "[encoded data removed]"
          },
          "metadata": {}
        }
      ]
    },
    {
      "cell_type": "code",
      "source": [
        "W"
      ],
      "metadata": {
        "colab": {
          "base_uri": "https://localhost:8080/"
        },
        "id": "Jm5bGnEzooIu",
        "outputId": "3abb06ca-9b68-4e6a-ea6d-595ee5b7c6ed"
      },
      "execution_count": 47,
      "outputs": [
        {
          "output_type": "execute_result",
          "data": {
            "text/plain": [
              "[array([[ 0.01424004, -0.5907864 , -0.27549535],\n",
              "        [ 0.39883757, -0.52918637,  0.18640439]], dtype=float32),\n",
              " array([ 0.00554004,  0.5519136 , -0.06599568], dtype=float32),\n",
              " array([[ 0.3475135 ],\n",
              "        [-0.05529078],\n",
              "        [ 0.03760847]], dtype=float32),\n",
              " array([-0.22443289], dtype=float32)]"
            ]
          },
          "metadata": {},
          "execution_count": 47
        }
      ]
    },
    {
      "cell_type": "markdown",
      "source": [
        "# Predict"
      ],
      "metadata": {
        "id": "lVn7vcXjot4y"
      }
    },
    {
      "cell_type": "code",
      "source": [
        "pre_hidden = np.dot(x, W[0]) + W[1]\n",
        "hidden     = sigmoid(pre_hidden)\n",
        "out        = np.dot(hidden, W[2]) + W[3]\n",
        "print(f\"Predicted Output: {out}\")"
      ],
      "metadata": {
        "colab": {
          "base_uri": "https://localhost:8080/"
        },
        "id": "MsTKdymHorjL",
        "outputId": "ba046c6d-78fe-44bb-cf21-f69b5455d9a5"
      },
      "execution_count": 48,
      "outputs": [
        {
          "output_type": "stream",
          "name": "stdout",
          "text": [
            "Predicted Output: [[-0.0174781]]\n"
          ]
        }
      ]
    }
  ]
}