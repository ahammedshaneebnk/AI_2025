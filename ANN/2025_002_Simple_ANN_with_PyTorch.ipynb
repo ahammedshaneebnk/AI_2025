{
  "nbformat": 4,
  "nbformat_minor": 0,
  "metadata": {
    "colab": {
      "provenance": [],
      "toc_visible": true,
      "gpuType": "T4",
      "authorship_tag": "ABX9TyNTEyNGoLTmtHlth2Pl3mwK",
      "include_colab_link": true
    },
    "kernelspec": {
      "name": "python3",
      "display_name": "Python 3"
    },
    "language_info": {
      "name": "python"
    },
    "accelerator": "GPU"
  },
  "cells": [
    {
      "cell_type": "markdown",
      "metadata": {
        "id": "view-in-github",
        "colab_type": "text"
      },
      "source": [
        "<a href=\"https://colab.research.google.com/github/ahammedshaneebnk/AI_2025/blob/main/ANN/2025_002_Simple_ANN_with_PyTorch.ipynb\" target=\"_parent\"><img src=\"https://colab.research.google.com/assets/colab-badge.svg\" alt=\"Open In Colab\"/></a>"
      ]
    },
    {
      "cell_type": "code",
      "source": [
        "%pip install torch_summary"
      ],
      "metadata": {
        "colab": {
          "base_uri": "https://localhost:8080/"
        },
        "id": "ysHEKOnRAPQz",
        "outputId": "920d1957-ba08-4842-8edf-7af1ee942dec"
      },
      "execution_count": 1,
      "outputs": [
        {
          "output_type": "stream",
          "name": "stdout",
          "text": [
            "Requirement already satisfied: torch_summary in /usr/local/lib/python3.11/dist-packages (1.4.5)\n"
          ]
        }
      ]
    },
    {
      "cell_type": "markdown",
      "source": [
        "# Libraries"
      ],
      "metadata": {
        "id": "db0ArQHdXq6F"
      }
    },
    {
      "cell_type": "code",
      "execution_count": 2,
      "metadata": {
        "id": "OGgm7PZHXky6"
      },
      "outputs": [],
      "source": [
        "import torch\n",
        "import torch.nn as nn\n",
        "\n",
        "from torch.optim import SGD\n",
        "from torch.utils.data import Dataset, DataLoader\n",
        "\n",
        "from torchsummary import summary\n",
        "\n",
        "from matplotlib import pyplot as plt"
      ]
    },
    {
      "cell_type": "markdown",
      "source": [
        "# Toy Dataset"
      ],
      "metadata": {
        "id": "wW7QKT-0X0G2"
      }
    },
    {
      "cell_type": "code",
      "source": [
        "x = [[1,2], [3,4], [5, 6], [7, 8]]\n",
        "y = [[3  ], [7  ], [11  ], [15  ]]"
      ],
      "metadata": {
        "id": "Kkx2EH4HXzRz"
      },
      "execution_count": 3,
      "outputs": []
    },
    {
      "cell_type": "markdown",
      "source": [
        "# Device Selection wrt CUDA Availability"
      ],
      "metadata": {
        "id": "rqdyjICSYO7L"
      }
    },
    {
      "cell_type": "code",
      "source": [
        "device = 'cuda' if torch.cuda.is_available() else 'cpu'"
      ],
      "metadata": {
        "id": "OgFgVo8dYJiF"
      },
      "execution_count": 4,
      "outputs": []
    },
    {
      "cell_type": "code",
      "source": [
        "print(device)"
      ],
      "metadata": {
        "colab": {
          "base_uri": "https://localhost:8080/"
        },
        "id": "mqRGlSy8YhSL",
        "outputId": "ee432c9d-3473-45a7-e4a9-2a2da6bdeacd"
      },
      "execution_count": 5,
      "outputs": [
        {
          "output_type": "stream",
          "name": "stdout",
          "text": [
            "cuda\n"
          ]
        }
      ]
    },
    {
      "cell_type": "markdown",
      "source": [
        "# Data as Tensor"
      ],
      "metadata": {
        "id": "6jn3G4tzYp1Z"
      }
    },
    {
      "cell_type": "code",
      "source": [
        "X = torch.tensor(x).float()\n",
        "Y = torch.tensor(y).float()"
      ],
      "metadata": {
        "id": "TyeZg0nuYjYd"
      },
      "execution_count": 6,
      "outputs": []
    },
    {
      "cell_type": "code",
      "source": [
        "X.to(device)"
      ],
      "metadata": {
        "colab": {
          "base_uri": "https://localhost:8080/"
        },
        "id": "FE0As2n6Y9DV",
        "outputId": "d32eb437-f558-4fee-a89f-8227bf7df9e0"
      },
      "execution_count": 7,
      "outputs": [
        {
          "output_type": "execute_result",
          "data": {
            "text/plain": [
              "tensor([[1., 2.],\n",
              "        [3., 4.],\n",
              "        [5., 6.],\n",
              "        [7., 8.]], device='cuda:0')"
            ]
          },
          "metadata": {},
          "execution_count": 7
        }
      ]
    },
    {
      "cell_type": "code",
      "source": [
        "Y.to(device)"
      ],
      "metadata": {
        "colab": {
          "base_uri": "https://localhost:8080/"
        },
        "id": "Bvd9SAwpZDHE",
        "outputId": "45f6de7e-f6e6-420c-efbb-8d11f78cc22b"
      },
      "execution_count": 8,
      "outputs": [
        {
          "output_type": "execute_result",
          "data": {
            "text/plain": [
              "tensor([[ 3.],\n",
              "        [ 7.],\n",
              "        [11.],\n",
              "        [15.]], device='cuda:0')"
            ]
          },
          "metadata": {},
          "execution_count": 8
        }
      ]
    },
    {
      "cell_type": "markdown",
      "source": [
        "# Dataset Class"
      ],
      "metadata": {
        "id": "DeOHf6EN9E49"
      }
    },
    {
      "cell_type": "code",
      "source": [
        "class MyDataSet(Dataset):\n",
        "    def __init__(self, x, y):\n",
        "        self.x = torch.tensor(x).float()\n",
        "        self.y = torch.tensor(y).float()\n",
        "    def __len__(self):\n",
        "        return len(self.x)\n",
        "    def __getitem__(self, index):\n",
        "        return self.x[index], self.y[index]"
      ],
      "metadata": {
        "id": "yk8RN6jV9EbM"
      },
      "execution_count": 9,
      "outputs": []
    },
    {
      "cell_type": "code",
      "source": [
        "ds = MyDataSet(X, Y)"
      ],
      "metadata": {
        "colab": {
          "base_uri": "https://localhost:8080/"
        },
        "id": "lqxOkDEf93h3",
        "outputId": "c131c15e-554b-4787-c184-aa59a99d9710"
      },
      "execution_count": 10,
      "outputs": [
        {
          "output_type": "stream",
          "name": "stderr",
          "text": [
            "<ipython-input-9-3477066e37c5>:3: UserWarning: To copy construct from a tensor, it is recommended to use sourceTensor.clone().detach() or sourceTensor.clone().detach().requires_grad_(True), rather than torch.tensor(sourceTensor).\n",
            "  self.x = torch.tensor(x).float()\n",
            "<ipython-input-9-3477066e37c5>:4: UserWarning: To copy construct from a tensor, it is recommended to use sourceTensor.clone().detach() or sourceTensor.clone().detach().requires_grad_(True), rather than torch.tensor(sourceTensor).\n",
            "  self.y = torch.tensor(y).float()\n"
          ]
        }
      ]
    },
    {
      "cell_type": "markdown",
      "source": [
        "# Data Loader"
      ],
      "metadata": {
        "id": "xY7vbyJ0-GT5"
      }
    },
    {
      "cell_type": "code",
      "source": [
        "data_loader = DataLoader(dataset=ds, batch_size=2, shuffle=True)"
      ],
      "metadata": {
        "id": "UTpK_U2y-IpF"
      },
      "execution_count": 11,
      "outputs": []
    },
    {
      "cell_type": "markdown",
      "source": [
        "# Neural Network"
      ],
      "metadata": {
        "id": "2SEq7VZ7ZPl9"
      }
    },
    {
      "cell_type": "code",
      "source": [
        "torch.random.manual_seed(10)\n",
        "class MyNeuralNetwork(nn.Module):\n",
        "    def __init__(self):\n",
        "        super().__init__()\n",
        "        self.input_to_hidden_layer   = nn.Linear(2,8)\n",
        "        self.hidden_activation_layer = nn.ReLU  (   )\n",
        "        self.hidden_to_output_layer  = nn.Linear(8,1)\n",
        "    def forward(self, x):\n",
        "        x = self.input_to_hidden_layer  (x)\n",
        "        x = self.hidden_activation_layer(x)\n",
        "        x = self.hidden_to_output_layer (x)\n",
        "        return x"
      ],
      "metadata": {
        "id": "iIuYxIGQZKUK"
      },
      "execution_count": 12,
      "outputs": []
    },
    {
      "cell_type": "code",
      "source": [
        "myNet    = MyNeuralNetwork().to(device)\n",
        "summary(myNet, torch.zeros(1,2));"
      ],
      "metadata": {
        "colab": {
          "base_uri": "https://localhost:8080/"
        },
        "id": "MEOm79fhAYBh",
        "outputId": "6069506b-0ddb-4bc6-c311-c06f5dfdb7aa"
      },
      "execution_count": 13,
      "outputs": [
        {
          "output_type": "stream",
          "name": "stdout",
          "text": [
            "==========================================================================================\n",
            "Layer (type:depth-idx)                   Output Shape              Param #\n",
            "==========================================================================================\n",
            "├─Linear: 1-1                            [-1, 8]                   24\n",
            "├─ReLU: 1-2                              [-1, 8]                   --\n",
            "├─Linear: 1-3                            [-1, 1]                   9\n",
            "==========================================================================================\n",
            "Total params: 33\n",
            "Trainable params: 33\n",
            "Non-trainable params: 0\n",
            "Total mult-adds (M): 0.00\n",
            "==========================================================================================\n",
            "Input size (MB): 0.00\n",
            "Forward/backward pass size (MB): 0.00\n",
            "Params size (MB): 0.00\n",
            "Estimated Total Size (MB): 0.00\n",
            "==========================================================================================\n"
          ]
        }
      ]
    },
    {
      "cell_type": "markdown",
      "source": [
        "# Loss Function"
      ],
      "metadata": {
        "id": "pU9XTGKMaOSI"
      }
    },
    {
      "cell_type": "code",
      "source": [
        "loss_fun = nn.MSELoss()\n",
        "_Y       = myNet(X.to(device))\n",
        "loss     = loss_fun(_Y.to(device), Y.to(device))"
      ],
      "metadata": {
        "id": "IgrQELSGaEm-"
      },
      "execution_count": 14,
      "outputs": []
    },
    {
      "cell_type": "code",
      "source": [
        "print(loss)"
      ],
      "metadata": {
        "colab": {
          "base_uri": "https://localhost:8080/"
        },
        "id": "DLEbBVds5TIk",
        "outputId": "f8b6cbd3-934e-47a9-af60-9196a5607cdc"
      },
      "execution_count": 15,
      "outputs": [
        {
          "output_type": "stream",
          "name": "stdout",
          "text": [
            "tensor(102.1545, device='cuda:0', grad_fn=<MseLossBackward0>)\n"
          ]
        }
      ]
    },
    {
      "cell_type": "code",
      "source": [
        "loss.item()"
      ],
      "metadata": {
        "colab": {
          "base_uri": "https://localhost:8080/"
        },
        "id": "2jK73iAE6pF9",
        "outputId": "c7daef2c-f6e1-4875-e526-c4bcb1ae0cb5"
      },
      "execution_count": 16,
      "outputs": [
        {
          "output_type": "execute_result",
          "data": {
            "text/plain": [
              "102.15446472167969"
            ]
          },
          "metadata": {},
          "execution_count": 16
        }
      ]
    },
    {
      "cell_type": "markdown",
      "source": [
        "# Optimizer"
      ],
      "metadata": {
        "id": "I71ukVRH0g5L"
      }
    },
    {
      "cell_type": "code",
      "source": [
        "opt = SGD(params=myNet.parameters(), lr=1e-3)"
      ],
      "metadata": {
        "id": "Ey_ivoy10A5U"
      },
      "execution_count": 17,
      "outputs": []
    },
    {
      "cell_type": "markdown",
      "source": [
        "# Train"
      ],
      "metadata": {
        "id": "XZtr7LH701qT"
      }
    },
    {
      "cell_type": "code",
      "source": [
        "loss_values = []\n",
        "for i in range(50):\n",
        "    for data in data_loader:\n",
        "        x,y = data\n",
        "        opt.zero_grad()\n",
        "        loss = loss_fun(myNet(x.to(device)), y.to(device))\n",
        "        loss.backward()\n",
        "        opt.step()\n",
        "        loss_values.append(loss.item())"
      ],
      "metadata": {
        "id": "k_NVfqXX0xBN"
      },
      "execution_count": 18,
      "outputs": []
    },
    {
      "cell_type": "markdown",
      "source": [
        "# Visualize Loss"
      ],
      "metadata": {
        "id": "KIiaWzxG7CEg"
      }
    },
    {
      "cell_type": "code",
      "source": [
        "plt.plot(loss_values)\n",
        "plt.title(\"Training Loss\")\n",
        "plt.xlabel(\"Iterations= Epochs * Batch Size\")\n",
        "plt.ylabel(\"Loss\")"
      ],
      "metadata": {
        "colab": {
          "base_uri": "https://localhost:8080/",
          "height": 489
        },
        "id": "QOVsNc897Dnj",
        "outputId": "d8655cf3-c6a8-4d98-c4f9-86cc1f851c93"
      },
      "execution_count": 19,
      "outputs": [
        {
          "output_type": "execute_result",
          "data": {
            "text/plain": [
              "Text(0, 0.5, 'Loss')"
            ]
          },
          "metadata": {},
          "execution_count": 19
        },
        {
          "output_type": "display_data",
          "data": {
            "text/plain": [
              "<Figure size 640x480 with 1 Axes>"
            ],
            "image/png": "[encoded data removed]"
          },
          "metadata": {}
        }
      ]
    },
    {
      "cell_type": "markdown",
      "source": [
        "# Prediction"
      ],
      "metadata": {
        "id": "yJaPBYXs_ow4"
      }
    },
    {
      "cell_type": "code",
      "source": [
        "val_x = [[10, 11]]"
      ],
      "metadata": {
        "id": "Kc3o-KvS_qzx"
      },
      "execution_count": 20,
      "outputs": []
    },
    {
      "cell_type": "code",
      "source": [
        "myNet(torch.tensor(val_x).float().to(device))"
      ],
      "metadata": {
        "colab": {
          "base_uri": "https://localhost:8080/"
        },
        "id": "iDkP87Ax_un_",
        "outputId": "0387c06b-1aa6-4a8e-b763-707a078fec11"
      },
      "execution_count": 21,
      "outputs": [
        {
          "output_type": "execute_result",
          "data": {
            "text/plain": [
              "tensor([[21.2120]], device='cuda:0', grad_fn=<AddmmBackward0>)"
            ]
          },
          "metadata": {},
          "execution_count": 21
        }
      ]
    },
    {
      "cell_type": "code",
      "source": [
        "myNet(torch.tensor([[13, 4]]).float().to(device))"
      ],
      "metadata": {
        "colab": {
          "base_uri": "https://localhost:8080/"
        },
        "id": "qwu5EBcoAB31",
        "outputId": "1e1ea3b4-a5cf-42ca-9de7-db7b4ee58c45"
      },
      "execution_count": 22,
      "outputs": [
        {
          "output_type": "execute_result",
          "data": {
            "text/plain": [
              "tensor([[14.4612]], device='cuda:0', grad_fn=<AddmmBackward0>)"
            ]
          },
          "metadata": {},
          "execution_count": 22
        }
      ]
    },
    {
      "cell_type": "markdown",
      "source": [
        "# Save"
      ],
      "metadata": {
        "id": "0VRmqiinBvNH"
      }
    },
    {
      "cell_type": "code",
      "source": [
        "model_path =\"model.pth\"\n",
        "torch.save(myNet.state_dict(), model_path)"
      ],
      "metadata": {
        "id": "xXTKf4snBw8K"
      },
      "execution_count": 23,
      "outputs": []
    },
    {
      "cell_type": "markdown",
      "source": [
        "# Load and Predict"
      ],
      "metadata": {
        "id": "5HKXQ_I7CB2p"
      }
    },
    {
      "cell_type": "code",
      "source": [
        "load_path = \"model.pth\"\n",
        "\n",
        "model = MyNeuralNetwork().to(device)\n",
        "\n",
        "model.load_state_dict(torch.load(load_path))\n",
        "\n",
        "val = torch.tensor([[8,9],[10,11],[1.5,2.5]]).float().to(device)\n",
        "\n",
        "model(val.to(device))"
      ],
      "metadata": {
        "colab": {
          "base_uri": "https://localhost:8080/"
        },
        "id": "dPT-Tc06B-OU",
        "outputId": "7b9fa345-f2ea-4992-b48f-3b68341adce2"
      },
      "execution_count": 24,
      "outputs": [
        {
          "output_type": "stream",
          "name": "stderr",
          "text": [
            "<ipython-input-24-f79943e3d5ed>:5: FutureWarning: You are using `torch.load` with `weights_only=False` (the current default value), which uses the default pickle module implicitly. It is possible to construct malicious pickle data which will execute arbitrary code during unpickling (See https://github.com/pytorch/pytorch/blob/main/SECURITY.md#untrusted-models for more details). In a future release, the default value for `weights_only` will be flipped to `True`. This limits the functions that could be executed during unpickling. Arbitrary objects will no longer be allowed to be loaded via this mode unless they are explicitly allowlisted by the user via `torch.serialization.add_safe_globals`. We recommend you start setting `weights_only=True` for any use case where you don't have full control of the loaded file. Please open an issue on GitHub for any issues related to this experimental feature.\n",
            "  model.load_state_dict(torch.load(load_path))\n"
          ]
        },
        {
          "output_type": "execute_result",
          "data": {
            "text/plain": [
              "tensor([[17.1235],\n",
              "        [21.2120],\n",
              "        [ 3.8359]], device='cuda:0', grad_fn=<AddmmBackward0>)"
            ]
          },
          "metadata": {},
          "execution_count": 24
        }
      ]
    },
    {
      "cell_type": "code",
      "source": [
        "val.sum(-1)"
      ],
      "metadata": {
        "colab": {
          "base_uri": "https://localhost:8080/"
        },
        "id": "mkvRzWO_Dnwy",
        "outputId": "bc40c846-fadc-4a87-dc67-77163823e4c9"
      },
      "execution_count": 26,
      "outputs": [
        {
          "output_type": "execute_result",
          "data": {
            "text/plain": [
              "tensor([17., 21.,  4.], device='cuda:0')"
            ]
          },
          "metadata": {},
          "execution_count": 26
        }
      ]
    }
  ]
}